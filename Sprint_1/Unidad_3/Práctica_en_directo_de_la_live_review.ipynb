{
 "cells": [
  {
   "cell_type": "code",
   "execution_count": 18,
   "metadata": {},
   "outputs": [
    {
     "name": "stdout",
     "output_type": "stream",
     "text": [
      "Enhorabuena!, has sacado un Suspendido\n"
     ]
    }
   ],
   "source": [
    "grades = input(\"Introduce una nota: \")\n",
    "puntuacion = [\"Suspendido\", \"Aprobado\", \"Bien\", \"Notable\", \"Excelente\"]\n",
    "\n",
    "try:\n",
    "    grades = float(grades)\n",
    "\n",
    "    if grades < 5 and grades >= 0:\n",
    "        print(f\"Lo siento, has sacado un {puntuacion[0]}\")\n",
    "\n",
    "    elif grades == 5:\n",
    "        print(f\"Enhorabuena!, has sacado un {puntuacion[1]}\")\n",
    "        \n",
    "    elif grades  == 6:\n",
    "        print(f\"Enhorabuena!, has sacado un {puntuacion[2]}\")\n",
    "\n",
    "    elif grades > 6 and grades <= 8:\n",
    "        print(f\"Enhorabuena!, has sacado un {puntuacion[3]}\")\n",
    "\n",
    "    elif grades >= 9 or grades == 10:\n",
    "        print(f\"Enhorabuena, has sacado un {puntuacion[4]}\")\n",
    "\n",
    "    else:\n",
    "        print(\"Nota errónea\")\n",
    "\n",
    "except Exception as ex:\n",
    "    print(\"No has introducido un valor numérico\")   "
   ]
  },
  {
   "cell_type": "code",
   "execution_count": null,
   "metadata": {},
   "outputs": [],
   "source": [
    "grades = float(input(\"Introduce una nota: \"))\n",
    "puntuacion = [\"Suspendido\", \"Aprobado\", \"Bien\", \"Notable\", \"Excelente\"]\n",
    "\n",
    "for i in puntuacion:\n",
    "    \n",
    "    if grades < 5 and grades >= 0:\n",
    "        print(f\"Lo siento, has sacado un {i if i == \"Suspendido\" else \"Suspendido\"}\")\n",
    "\n",
    "    elif grades == 5:\n",
    "        print(f\"Lo siento, has sacado un {i if i == \"Aprobado\" else \"Aprobado\"}\")\n",
    "        \n",
    "    elif grades  == 6:\n",
    "        print(f\"Lo siento, has sacado un {i if i == \"Bien\" else \"Bien\"}\")\n",
    "\n",
    "    elif grades > 6 and grades <= 8:\n",
    "        print(f\"Lo siento, has sacado un {i if i == \"Notable\" else \"Notable\"}\")\n",
    "\n",
    "    elif grades >= 9 or grades == 10:\n",
    "        print(f\"Lo siento, has sacado un {i if i == \"Sobresaliente\" else \"Sobresaliente\"}\")\n",
    "\n",
    "    else:\n",
    "        print(\"Nota errónea\")"
   ]
  },
  {
   "cell_type": "code",
   "execution_count": 23,
   "metadata": {},
   "outputs": [
    {
     "name": "stdout",
     "output_type": "stream",
     "text": [
      "Lo siento, has sacado un Suspendido\n"
     ]
    }
   ],
   "source": [
    "grades = float(input(\"Introduce una nota: \"))\n",
    "puntuacion = [\"Suspendido\", \"Aprobado\", \"Bien\", \"Notable\", \"Excelente\"]\n",
    "\n",
    "for i in puntuacion:\n",
    "    \n",
    "    if grades < 5 and grades >= 0:\n",
    "        print(f\"Lo siento, has sacado un {i if i == \"Suspendido\" else \"Suspendido\"}\")\n",
    "        break\n",
    "    \n",
    "    else:\n",
    "        print(\"Nota errónea\")\n"
   ]
  }
 ],
 "metadata": {
  "kernelspec": {
   "display_name": "base",
   "language": "python",
   "name": "python3"
  },
  "language_info": {
   "codemirror_mode": {
    "name": "ipython",
    "version": 3
   },
   "file_extension": ".py",
   "mimetype": "text/x-python",
   "name": "python",
   "nbconvert_exporter": "python",
   "pygments_lexer": "ipython3",
   "version": "3.12.4"
  }
 },
 "nbformat": 4,
 "nbformat_minor": 2
}
